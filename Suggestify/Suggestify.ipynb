{
 "cells": [
  {
   "cell_type": "code",
   "execution_count": null,
   "metadata": {},
   "outputs": [],
   "source": [
    "import sqlite3\n",
    "import pandas as pd\n",
    "from pyspark.sql import SparkSession"
   ]
  },
  {
   "cell_type": "code",
   "execution_count": null,
   "metadata": {},
   "outputs": [],
   "source": [
    "spark = SparkSession.builder.appName(\"suggestify\").getOrCreate()"
   ]
  },
  {
   "cell_type": "code",
   "execution_count": null,
   "metadata": {},
   "outputs": [],
   "source": [
    "sqlite_conn = sqlite3.connect(\"extracted.db\")\n",
    "cursor = sqlite_conn.cursor()\n",
    "\n",
    "cursor.execute(\"SELECT name FROM sqlite_master WHERE type='table';\")\n",
    "tables = cursor.fetchall()\n",
    "print(\"Tables in SQLite:\", tables)\n",
    "\n",
    "df = pd.read_sql(\"SELECT * FROM extracted\", sqlite_conn)\n",
    "\n",
    "sqlite_conn.close()\n",
    "\n",
    "df.head()"
   ]
  },
  {
   "cell_type": "code",
   "execution_count": null,
   "metadata": {},
   "outputs": [],
   "source": [
    "df.shape"
   ]
  },
  {
   "cell_type": "code",
   "execution_count": null,
   "metadata": {},
   "outputs": [],
   "source": [
    "import sqlite3\n",
    "import pandas as pd\n",
    "from pyspark.sql import SparkSession\n",
    "from pyspark.sql.types import *\n",
    "\n",
    "spark = SparkSession.builder.appName(\"SQLite_to_Spark\").getOrCreate()\n",
    "\n",
    "sqlite_conn = sqlite3.connect(\"extracted.db\")\n",
    "\n",
    "df = pd.read_sql(\"SELECT * FROM extracted\", sqlite_conn)\n",
    "\n",
    "sqlite_conn.close()\n",
    "\n",
    "schema = StructType([\n",
    "    StructField(\"track_uri\", StringType(), True),\n",
    "    StructField(\"track_name\", StringType(), True),\n",
    "    StructField(\"artist_name\", StringType(), True),\n",
    "    StructField(\"artist_uri\", StringType(), True),\n",
    "    StructField(\"album_name\", StringType(), True),\n",
    "    StructField(\"album_uri\", StringType(), True),\n",
    "    StructField(\"duration_ms\", IntegerType(), True),\n",
    "    StructField(\"danceability\", FloatType(), True),\n",
    "    StructField(\"energy\", FloatType(), True),\n",
    "    StructField(\"key\", IntegerType(), True),\n",
    "    StructField(\"loudness\", FloatType(), True),\n",
    "    StructField(\"mode\", IntegerType(), True),\n",
    "    StructField(\"speechiness\", FloatType(), True),\n",
    "    StructField(\"acousticness\", FloatType(), True),\n",
    "    StructField(\"instrumentalness\", FloatType(), True),\n",
    "    StructField(\"liveness\", FloatType(), True),\n",
    "    StructField(\"valence\", FloatType(), True),\n",
    "    StructField(\"tempo\", FloatType(), True),\n",
    "    StructField(\"type\", StringType(), True),\n",
    "    StructField(\"id\", StringType(), True),\n",
    "    StructField(\"uri\", StringType(), True),\n",
    "    StructField(\"track_href\", StringType(), True),\n",
    "    StructField(\"analysis_url\", StringType(), True),\n",
    "    StructField(\"fduration_ms\", IntegerType(), True),\n",
    "    StructField(\"time_signature\", IntegerType(), True)\n",
    "])\n",
    "\n",
    "spark_df = spark.createDataFrame(df, schema=schema)\n",
    "\n",
    "spark_df.show(5)"
   ]
  }
 ],
 "metadata": {
  "kernelspec": {
   "display_name": "bigdataenv",
   "language": "python",
   "name": "python3"
  },
  "language_info": {
   "codemirror_mode": {
    "name": "ipython",
    "version": 3
   },
   "file_extension": ".py",
   "mimetype": "text/x-python",
   "name": "python",
   "nbconvert_exporter": "python",
   "pygments_lexer": "ipython3",
   "version": "3.12.3"
  },
  "orig_nbformat": 4
 },
 "nbformat": 4,
 "nbformat_minor": 2
}
